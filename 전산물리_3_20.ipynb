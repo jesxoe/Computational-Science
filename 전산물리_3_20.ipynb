{
  "nbformat": 4,
  "nbformat_minor": 0,
  "metadata": {
    "colab": {
      "provenance": [],
      "authorship_tag": "ABX9TyPBSPGp/t63djT7TMiqF3Of",
      "include_colab_link": true
    },
    "kernelspec": {
      "name": "python3",
      "display_name": "Python 3"
    },
    "language_info": {
      "name": "python"
    }
  },
  "cells": [
    {
      "cell_type": "markdown",
      "metadata": {
        "id": "view-in-github",
        "colab_type": "text"
      },
      "source": [
        "<a href=\"https://colab.research.google.com/github/jesxoe/Computational-Science/blob/main/%EC%A0%84%EC%82%B0%EB%AC%BC%EB%A6%AC_3_20.ipynb\" target=\"_parent\"><img src=\"https://colab.research.google.com/assets/colab-badge.svg\" alt=\"Open In Colab\"/></a>"
      ]
    },
    {
      "cell_type": "code",
      "execution_count": null,
      "metadata": {
        "colab": {
          "base_uri": "https://localhost:8080/"
        },
        "id": "JWZusNjWvuOk",
        "outputId": "299e8d6b-3fb8-44d2-c17e-4a010f1366d5"
      },
      "outputs": [
        {
          "output_type": "stream",
          "name": "stdout",
          "text": [
            "0.6666666666666666\n",
            "1.6666666666666667\n",
            "1.6666666666666665\n",
            "100000000.0\n",
            "194.22222222222223\n",
            "100.0\n"
          ]
        }
      ],
      "source": [
        "#finite precision (무한 소수)\n",
        "\n",
        "# 결과는 소수점 아래 무한히 반복되는 값이지만,컴퓨터는 유한한 자리까지만 표현해서 근사값으로 출력됨.\n",
        "print(2/3)  # 0.6666666666666666\n",
        "print(5/3)  # 1.6666666666666667\n",
        "\n",
        "print(2/3 + 1)  # 1.6666666666666665\n",
        "# (2/3)의 근사값(0.6666...)에 1을 더함. 결과는 약 1.6666666666666665\n",
        "\n",
        "print(100000000 + 0.000000001)  # 100000000.0\n",
        "# 매우 큰 수에 매우 작은 수를 더한 경우,부동소수점 정밀도 한계 때문에 작은 값이 무시되고 결과는 100000000.0으로 출력됨.\n",
        "\n",
        "print(212-32*5/9)  # 194.22222222222223\n",
        "# 곱셈 나눗셈 먼저 계산: 32*5 = 160 → 160/9 ≈ 17.777...\n",
        "# 212 - 17.777... ≈ 194.222...\n",
        "\n",
        "#operator precedence(화씨 -> 섭씨)\n",
        "print((212-32)*5/9)  # 100.0\n",
        "# 괄호가 먼저: 212 - 32 = 180\n",
        "# 180 * 5 = 900 → 900 / 9 = 100.0\n",
        "# 이 식은 섭씨 변환 공식: (화씨 - 32) * 5/9 → 결과는 100도 (Celsius)\n"
      ]
    },
    {
      "cell_type": "markdown",
      "source": [
        "부동소수점 규칙에 대해 알아둘 것"
      ],
      "metadata": {
        "id": "CMBKjkX3Vi54"
      }
    },
    {
      "cell_type": "code",
      "source": [
        "#기초계산 (3)\n",
        "#variables(변수) computer memory, memory address\n",
        "a=26\n",
        "print(a)\n",
        "a=26.\n",
        "print(a)\n",
        "a=26.0+5\n",
        "print(a)\n",
        "double=a*3\n",
        "print(double)"
      ],
      "metadata": {
        "colab": {
          "base_uri": "https://localhost:8080/"
        },
        "id": "V-Lh9GsSx4Yy",
        "outputId": "e8512bfc-1052-4af8-f6b6-7a3e4c4a52e5"
      },
      "execution_count": null,
      "outputs": [
        {
          "output_type": "stream",
          "name": "stdout",
          "text": [
            "26\n",
            "26.0\n",
            "31.0\n",
            "93.0\n"
          ]
        }
      ]
    },
    {
      "cell_type": "markdown",
      "source": [
        "## 02. 변수"
      ],
      "metadata": {
        "id": "6I_z3LKLXC6G"
      }
    },
    {
      "cell_type": "code",
      "source": [
        "# 변수 재지정 : Reassign to Variables\n",
        "number = 3\n",
        "number = 2 * number # 6\n",
        "number = number * number # 36\n",
        "\n",
        "# Aubmented Assignment(복합대입 연산)\n",
        "'''\n",
        "+= : 더한 뒤 대입\n",
        "-= : 뺀 뒤 대입\n",
        "*= : 곱한 뒤 대입\n",
        "/= : 나눈 뒤 대입 (실수)\n",
        "//= : 몫만 구해서 대입 (정수 나눗셈)\n",
        "%= : 나머지 대입\n",
        "**= : 제곱해서 대입\n",
        "'''\n",
        "score = 50\n",
        "score = score + 20 # 70\n",
        "score += 20 # 90\n",
        "\n",
        "n = 10\n",
        "n *= n # n을 추가로 사용할 수 도 있다. #100\n",
        "print ('n=', n)\n",
        "\n",
        "\n",
        "#*=연산에서 오른쪽 수식은 항상 먼저 계산됨\n",
        "d = 2\n",
        "d *= 3 + 4 # d *= (3+4)를 먼저 한다!! 3+4=7 -> 2*7=14\n",
        "print ('d=', d)\n",
        "\n",
        "k = 3\n",
        "k *= 13 - 2*3 # d *= (13-2*3)을 먼저 한다!! 13-6=7 -> 3*7=21\n",
        "print('k=', k)"
      ],
      "metadata": {
        "colab": {
          "base_uri": "https://localhost:8080/"
        },
        "id": "REjk-mCRyzw4",
        "outputId": "dd71e315-5cc0-42d3-87d5-944e715496ed"
      },
      "execution_count": null,
      "outputs": [
        {
          "output_type": "stream",
          "name": "stdout",
          "text": [
            "d= 14\n",
            "k= 21\n"
          ]
        }
      ]
    },
    {
      "cell_type": "markdown",
      "source": [
        "## 03. 여러 참조 사항들\n",
        "- 에러 메시지 확인"
      ],
      "metadata": {
        "id": "Oprd7twQZfmT"
      }
    },
    {
      "cell_type": "markdown",
      "source": [
        "(1) NameError: name ' ' is not def"
      ],
      "metadata": {
        "id": "hz4_Lqvrafit"
      }
    },
    {
      "cell_type": "code",
      "source": [
        "# Error Message1\n",
        "3 + moogah\n",
        "\"\"\"\n",
        "Traceback (most recent call last):\n",
        "  File \"C:******0913_02.py\", line 2, in <module>\n",
        "    3 + moogah\n",
        "NameError: name 'moogah' is not def\n",
        "=> moogah 가 정의되지 않았다.\n",
        "\"\"\""
      ],
      "metadata": {
        "id": "-HTciBb8ZiVN"
      },
      "execution_count": null,
      "outputs": []
    },
    {
      "cell_type": "markdown",
      "source": [
        "(2) SyntaxError: invalid syntax -> 문법오류\n",
        "    연산자는 반드시 피연산자를 필요로 함"
      ],
      "metadata": {
        "id": "Gh6cshM7aqME"
      }
    },
    {
      "cell_type": "code",
      "source": [
        "#Error Message 2\n",
        "2+\n",
        "\"\"\"\n",
        "  File \"C:*******0913_02.py\", line 5\n",
        "    2 +\n",
        "      ^\n",
        "SyntaxError: invalid syntax\n",
        "=> 문법 오류 : operator 뒤에 operand 가 있어야 함.\n",
        "\"\"\""
      ],
      "metadata": {
        "id": "DapTD2vlZ1KP"
      },
      "execution_count": null,
      "outputs": []
    },
    {
      "cell_type": "markdown",
      "source": [
        "(3) SyntaxError: can't assign to literal\n",
        "    파이썬에서 좌변의 변수에 우변의 값을 저장함.\n",
        "    -> 좌변에 숫자가 오면 문법오류"
      ],
      "metadata": {
        "id": "OhBasUCGbHgF"
      }
    },
    {
      "cell_type": "code",
      "source": [
        "#Error Message3\n",
        "12 = x #12에 x를 저장한다? 불가능\n",
        "\"\"\"\n",
        "  File \"C:******0913_02.py\", line 14\n",
        "    12 = x\n",
        "    ^\n",
        "SyntaxError: can't assign to literal\n",
        "=> 변수를 숫자로\n",
        "\"\"\""
      ],
      "metadata": {
        "id": "X1bS5tnAaH_a"
      },
      "execution_count": null,
      "outputs": []
    },
    {
      "cell_type": "code",
      "source": [
        "# abs: 절대값 함수 → 양수는 그대로, 음수는 양수로\n",
        "print('abs(3.4)=', abs(3.4))\n",
        "print('abs(-3.8)=', abs(-3.8))      # -3.8 → 3.8\n",
        "\n",
        "# int: 소수점 버림 → 정수만 남김\n",
        "print('int(3.4)=', int(3.4))\n",
        "print('int(3.8)=', int(3.8))        # 3.8 → 3\n",
        "print('int(-3.3)=', int(-3.3))      # -3.3 → -3\n",
        "print('int(-3.8)=', int(-3.8))      # -3.8 → -3 (절대값 아님 주의)\n",
        "\n",
        "print('round(3.4)=', round(3.4))    # round: 반올림 → 0.5 이상 올림, 이하 내림\n",
        "print('round(3.8)=', round(3.8))    # 3.8 → 4\n",
        "print('round(-3.3)=', round(-3.3))  # -3.3 → -3\n",
        "print('round(-3.8)=', round(-3.8))  # -3.8 → -4\n",
        "\n",
        "print('round(3.141592653, 3)=', round(3.141592653, 3))\n",
        "# round(a, b): 소수점 b자릿수가 되도록 반올림 → 3.142\n",
        "\n",
        "print('float(3.4)=', float(3.4))    # float: 실수형으로 변환 → 이미 실수이므로 그대로\n",
        "print('float(3)=', float(3))        # 정수 3 → 실수 3.0\n",
        "\n",
        "print('pow(3, 4)=', pow(3, 4))      # pow(a, b): a의 b승 → 3^4 = 81\n",
        "print('pow(3, 4, 8)=', pow(3, 4, 8))\n",
        "# pow(a, b, c): (a의 b승) % c → 3^4 = 81, 81 % 8 = 1\n",
        "\n",
        "print('id(-9)=', id(-9))            # id: 객체의 메모리 주소 반환\n",
        "print('id(3)=', id(3))              # 같은 정수는 파이썬이 재사용하므로 동일한 주소일 수 있음\n",
        "print('id(abs)=', id(abs))          # 함수도 객체이므로 메모리 주소가 있다\n",
        "\n",
        "# print(help(int))  # int에 대한 도움말 출력 (실행 시 한 번에 터미널에 설명 뜸. 주석 처리됨)\n"
      ],
      "metadata": {
        "colab": {
          "base_uri": "https://localhost:8080/"
        },
        "id": "w36RLsXQ3GsR",
        "outputId": "1ca64753-9f53-453e-f4bc-d3e4be49b10b"
      },
      "execution_count": null,
      "outputs": [
        {
          "output_type": "stream",
          "name": "stdout",
          "text": [
            "abs(3.4)= 3.4\n",
            "abs(-3.8)= 3.8\n",
            "int(3.4)= 3\n",
            "int(3.8)= 3\n",
            "int(-3.3)= -3\n",
            "int(-3.8) -3\n"
          ]
        }
      ]
    },
    {
      "cell_type": "code",
      "source": [
        "import math\n",
        "\n",
        "print(round(213/7, 2))\n",
        "print(math.floor((213 / 7) * 100) / 100)\n",
        "print(math.ceil((213 / 7) * 100) / 100)\n",
        "print(213//7)\n",
        "print(213%7)"
      ],
      "metadata": {
        "colab": {
          "base_uri": "https://localhost:8080/"
        },
        "id": "5PNXE9rjxyif",
        "outputId": "5df24b7f-0d63-49d7-d101-a3221923f1ec"
      },
      "execution_count": null,
      "outputs": [
        {
          "output_type": "stream",
          "name": "stdout",
          "text": [
            "30.43\n",
            "30.42\n",
            "30.43\n",
            "30\n",
            "3\n"
          ]
        }
      ]
    },
    {
      "cell_type": "code",
      "source": [
        "#Function(2)\n",
        "def convert_to_celsius(fahrenheit):\n"
      ],
      "metadata": {
        "id": "1a0QlnEv-E7z"
      },
      "execution_count": null,
      "outputs": []
    },
    {
      "cell_type": "code",
      "source": [
        "#Function(3)\n"
      ],
      "metadata": {
        "id": "-w8Vp5gr_TgA"
      },
      "execution_count": null,
      "outputs": []
    },
    {
      "cell_type": "code",
      "source": [
        "#01 String\n"
      ],
      "metadata": {
        "id": "uehe4fq-CNAG"
      },
      "execution_count": null,
      "outputs": []
    }
  ]
}